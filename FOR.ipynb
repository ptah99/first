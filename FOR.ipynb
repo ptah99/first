{
  "nbformat": 4,
  "nbformat_minor": 0,
  "metadata": {
    "colab": {
      "name": "FOR.ipynb",
      "provenance": [],
      "authorship_tag": "ABX9TyPYDS3a0XoFwTJK9H1xPock",
      "include_colab_link": true
    },
    "kernelspec": {
      "name": "python3",
      "display_name": "Python 3"
    },
    "language_info": {
      "name": "python"
    }
  },
  "cells": [
    {
      "cell_type": "markdown",
      "metadata": {
        "id": "view-in-github",
        "colab_type": "text"
      },
      "source": [
        "<a href=\"https://colab.research.google.com/github/ptah99/first/blob/main/FOR.ipynb\" target=\"_parent\"><img src=\"https://colab.research.google.com/assets/colab-badge.svg\" alt=\"Open In Colab\"/></a>"
      ]
    },
    {
      "cell_type": "code",
      "metadata": {
        "id": "FspDLFZfyKXp"
      },
      "source": [
        "\n",
        "for i in range(10):\n",
        "  print(i)"
      ],
      "execution_count": null,
      "outputs": []
    },
    {
      "cell_type": "code",
      "metadata": {
        "id": "ilSAJzM70T7d"
      },
      "source": [
        "family = [\"Mum\", \"Dad\", \"Brother\", \"Sister\"]\n",
        "for member in family:\n",
        "  print(f\"I really love you {member}!\")"
      ],
      "execution_count": null,
      "outputs": []
    },
    {
      "cell_type": "code",
      "metadata": {
        "id": "NAaDwLj12CKp"
      },
      "source": [
        "numbers = [1,3,4,5,6,7,3,4,8,90,25,40,56,76,45,7,12,48]\n",
        "for number in numbers:\n",
        "  if (number % 2 == 0):\n",
        "    print(f\"{number} is an even number!\")\n",
        "  else:\n",
        "    print(f\"{number} is an odd number!\")"
      ],
      "execution_count": null,
      "outputs": []
    }
  ]
}